{
 "cells": [
  {
   "cell_type": "code",
   "execution_count": 7,
   "metadata": {
    "collapsed": true,
    "pycharm": {
     "name": "#%%\n"
    }
   },
   "outputs": [
    {
     "ename": "RuntimeError",
     "evalue": "Exception thrown in SimpleITK ImageFileReader_Execute: d:\\a\\1\\sitk-build\\itk-prefix\\include\\itk-5.2\\itkImportImageContainer.hxx:192:\nFailed to allocate memory for image.",
     "output_type": "error",
     "traceback": [
      "\u001B[1;31m---------------------------------------------------------------------------\u001B[0m",
      "\u001B[1;31mRuntimeError\u001B[0m                              Traceback (most recent call last)",
      "Input \u001B[1;32mIn [7]\u001B[0m, in \u001B[0;36m<cell line: 22>\u001B[1;34m()\u001B[0m\n\u001B[0;32m     20\u001B[0m     out \u001B[38;5;241m=\u001B[39m sitk\u001B[38;5;241m.\u001B[39mGetImageFromArray(mask)\n\u001B[0;32m     21\u001B[0m     sitk\u001B[38;5;241m.\u001B[39mWriteImage(out, \u001B[38;5;124mr\u001B[39m\u001B[38;5;124m'\u001B[39m\u001B[38;5;124mD:\u001B[39m\u001B[38;5;124m\\\u001B[39m\u001B[38;5;124mpycharm_project\u001B[39m\u001B[38;5;124m\\\u001B[39m\u001B[38;5;124mdata\u001B[39m\u001B[38;5;124m\\\u001B[39m\u001B[38;5;124mlabel_nii\u001B[39m\u001B[38;5;124m\\\u001B[39m\u001B[38;5;124m1.nii.gz\u001B[39m\u001B[38;5;124m'\u001B[39m)\n\u001B[1;32m---> 22\u001B[0m \u001B[43mcombine_single_case\u001B[49m\u001B[43m(\u001B[49m\u001B[43mpath1\u001B[49m\u001B[43m,\u001B[49m\u001B[43m \u001B[49m\u001B[43mpath2\u001B[49m\u001B[43m,\u001B[49m\u001B[43m \u001B[49m\u001B[43mclass_num\u001B[49m\u001B[38;5;241;43m=\u001B[39;49m\u001B[38;5;241;43m5\u001B[39;49m\u001B[43m)\u001B[49m\n",
      "Input \u001B[1;32mIn [7]\u001B[0m, in \u001B[0;36mcombine_single_case\u001B[1;34m(path1, path2, class_num)\u001B[0m\n\u001B[0;32m      8\u001B[0m \u001B[38;5;28;01mdef\u001B[39;00m \u001B[38;5;21mcombine_single_case\u001B[39m(path1, path2, class_num\u001B[38;5;241m=\u001B[39m\u001B[38;5;241m5\u001B[39m):\n\u001B[1;32m----> 9\u001B[0m     msk1 \u001B[38;5;241m=\u001B[39m \u001B[43msitk\u001B[49m\u001B[38;5;241;43m.\u001B[39;49m\u001B[43mReadImage\u001B[49m\u001B[43m(\u001B[49m\u001B[43mpath1\u001B[49m\u001B[43m)\u001B[49m\n\u001B[0;32m     10\u001B[0m     mask1 \u001B[38;5;241m=\u001B[39m sitk\u001B[38;5;241m.\u001B[39mGetArrayFromImage(msk1)\n\u001B[0;32m     11\u001B[0m     msk2 \u001B[38;5;241m=\u001B[39m sitk\u001B[38;5;241m.\u001B[39mReadImage(path2)\n",
      "File \u001B[1;32mD:\\pycharm_project\\pythonProject2\\venv\\lib\\site-packages\\SimpleITK\\extra.py:346\u001B[0m, in \u001B[0;36mReadImage\u001B[1;34m(fileName, outputPixelType, imageIO)\u001B[0m\n\u001B[0;32m    344\u001B[0m reader\u001B[38;5;241m.\u001B[39mSetImageIO(imageIO)\n\u001B[0;32m    345\u001B[0m reader\u001B[38;5;241m.\u001B[39mSetOutputPixelType(outputPixelType)\n\u001B[1;32m--> 346\u001B[0m \u001B[38;5;28;01mreturn\u001B[39;00m \u001B[43mreader\u001B[49m\u001B[38;5;241;43m.\u001B[39;49m\u001B[43mExecute\u001B[49m\u001B[43m(\u001B[49m\u001B[43m)\u001B[49m\n",
      "File \u001B[1;32mD:\\pycharm_project\\pythonProject2\\venv\\lib\\site-packages\\SimpleITK\\SimpleITK.py:8015\u001B[0m, in \u001B[0;36mImageFileReader.Execute\u001B[1;34m(self)\u001B[0m\n\u001B[0;32m   8009\u001B[0m \u001B[38;5;28;01mdef\u001B[39;00m \u001B[38;5;21mExecute\u001B[39m(\u001B[38;5;28mself\u001B[39m):\n\u001B[0;32m   8010\u001B[0m     \u001B[38;5;124mr\u001B[39m\u001B[38;5;124;03m\"\"\"\u001B[39;00m\n\u001B[0;32m   8011\u001B[0m \u001B[38;5;124;03m    Execute(ImageFileReader self) -> Image\u001B[39;00m\n\u001B[0;32m   8012\u001B[0m \n\u001B[0;32m   8013\u001B[0m \n\u001B[0;32m   8014\u001B[0m \u001B[38;5;124;03m    \"\"\"\u001B[39;00m\n\u001B[1;32m-> 8015\u001B[0m     \u001B[38;5;28;01mreturn\u001B[39;00m \u001B[43m_SimpleITK\u001B[49m\u001B[38;5;241;43m.\u001B[39;49m\u001B[43mImageFileReader_Execute\u001B[49m\u001B[43m(\u001B[49m\u001B[38;5;28;43mself\u001B[39;49m\u001B[43m)\u001B[49m\n",
      "\u001B[1;31mRuntimeError\u001B[0m: Exception thrown in SimpleITK ImageFileReader_Execute: d:\\a\\1\\sitk-build\\itk-prefix\\include\\itk-5.2\\itkImportImageContainer.hxx:192:\nFailed to allocate memory for image."
     ]
    }
   ],
   "source": [
    "import glob\n",
    "import os.path\n",
    "\n",
    "import SimpleITK as sitk\n",
    "import numpy as np\n",
    "\n",
    "path1 = r'D:\\first_set\\files\\oct_8 Jul 2021 02-12-10_avi_Label.nii.gz'\n",
    "path2 = r'D:\\first_set\\files\\oct_8 Jul 2021 02-42-15_avi_Label.nii.gz'\n",
    "\n",
    "\n",
    "def combine_single_case(path1, path2, class_num=5):\n",
    "    msk1 = sitk.ReadImage(path1)\n",
    "    mask1 = sitk.GetArrayFromImage(msk1)\n",
    "    msk2 = sitk.ReadImage(path2)\n",
    "    mask2 = sitk.GetArrayFromImage(msk2)\n",
    "    mask = np.zeros_like(mask1)\n",
    "    for sls in range(mask.shape[0]):\n",
    "        for i in range(1, class_num):\n",
    "            mask1[sls][mask1 != i] = 0\n",
    "            mask2[sls][mask2 != i] = 0\n",
    "            mask[sls] = mask1 + mask2\n",
    "            mask[sls][mask > i] = i\n",
    "    out = sitk.GetImageFromArray(mask)\n",
    "    sitk.WriteImage(out, r'D:\\pycharm_project\\data\\label_nii\\1.nii.gz')\n",
    "combine_single_case(path1, path2, class_num=5)"
   ]
  },
  {
   "cell_type": "code",
   "execution_count": 5,
   "outputs": [],
   "source": [
    "import tarfile\n",
    "\n",
    "path = r\"D:\\pycharm_project\\oct_data\\combination\\first_song_45\\oct_8 Jul 2021 02-12-10\\oct_8 Jul 2021 02-12-10_avi_Label.tar\"\n",
    "#archive = tarfile(path, mode=\"w\")\n",
    "with tarfile.open(path,\"w\") as archive:\n",
    "    path0 = r\"D:\\pycharm_project\\oct_data\\combination\\json_combined_1\\oct_8 Jul 2021 02-12-10_avi_Label.json\"\n",
    "    name0 = r\"oct_8 Jul 2021 02-12-10_avi_Label.json\"\n",
    "    path00 = r\"D:\\pycharm_project\\oct_data\\combination\\seg_merge1\\oct_8 Jul 2021 02-12-10_avi_Label.nii.gz\"\n",
    "    name00 = r\"oct_8 Jul 2021 02-12-10_avi_Label.nii.gz\"\n",
    "    archive.add(path0, name0)\n",
    "    archive.add(path00, name00)"
   ],
   "metadata": {
    "collapsed": false,
    "pycharm": {
     "name": "#%%\n"
    }
   }
  },
  {
   "cell_type": "code",
   "execution_count": 2,
   "outputs": [],
   "source": [
    "import shutil\n",
    "import glob\n",
    "import os\n",
    "\n",
    "videos = glob.glob(r\"D:\\pycharm_project\\oct_data\\combination\\segmentation_45\\*\\*.avi\")\n",
    "video_dir = r\"D:\\pycharm_project\\oct_data\\combination\\videos\"\n",
    "for video in videos:\n",
    "    name = video.split('\\\\')[-1]\n",
    "    dst = (os.path.join(video_dir, name))\n",
    "    shutil.copyfile(video, dst)"
   ],
   "metadata": {
    "collapsed": false,
    "pycharm": {
     "name": "#%%\n"
    }
   }
  },
  {
   "cell_type": "code",
   "execution_count": null,
   "outputs": [],
   "source": [],
   "metadata": {
    "collapsed": false,
    "pycharm": {
     "name": "#%%\n"
    }
   }
  }
 ],
 "metadata": {
  "kernelspec": {
   "display_name": "Python 3",
   "language": "python",
   "name": "python3"
  },
  "language_info": {
   "codemirror_mode": {
    "name": "ipython",
    "version": 2
   },
   "file_extension": ".py",
   "mimetype": "text/x-python",
   "name": "python",
   "nbconvert_exporter": "python",
   "pygments_lexer": "ipython2",
   "version": "2.7.6"
  }
 },
 "nbformat": 4,
 "nbformat_minor": 0
}